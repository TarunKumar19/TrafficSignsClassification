{
  "nbformat": 4,
  "nbformat_minor": 0,
  "metadata": {
    "colab": {
      "provenance": []
    },
    "kernelspec": {
      "name": "python3",
      "display_name": "Python 3"
    },
    "language_info": {
      "name": "python"
    },
    "accelerator": "GPU",
    "gpuClass": "standard"
  },
  "cells": [
    {
      "cell_type": "code",
      "execution_count": 1,
      "metadata": {
        "id": "jSKMdU1MJyGF"
      },
      "outputs": [],
      "source": [
        "!mkdir -p ~/.kaggle\n",
        "!cp kaggle.json ~/.kaggle/"
      ]
    },
    {
      "cell_type": "code",
      "source": [
        "!kaggle datasets download -d meowmeowmeowmeowmeow/gtsrb-german-traffic-sign"
      ],
      "metadata": {
        "id": "qHfazojsJ65z",
        "colab": {
          "base_uri": "https://localhost:8080/"
        },
        "outputId": "15afe720-c799-4cdf-9493-ac467ff1041b"
      },
      "execution_count": 2,
      "outputs": [
        {
          "output_type": "stream",
          "name": "stdout",
          "text": [
            "Warning: Your Kaggle API key is readable by other users on this system! To fix this, you can run 'chmod 600 /root/.kaggle/kaggle.json'\n",
            "Downloading gtsrb-german-traffic-sign.zip to /content\n",
            " 98% 600M/612M [00:02<00:00, 195MB/s]\n",
            "100% 612M/612M [00:03<00:00, 211MB/s]\n"
          ]
        }
      ]
    },
    {
      "cell_type": "code",
      "source": [
        "import zipfile\n",
        "zip = zipfile.ZipFile('/content/gtsrb-german-traffic-sign.zip')\n",
        "zip.extractall('/content')\n",
        "zip.close()"
      ],
      "metadata": {
        "id": "Dmjy9kziMAnB"
      },
      "execution_count": 3,
      "outputs": []
    },
    {
      "cell_type": "code",
      "source": [
        "import numpy as np \n",
        "import pandas as pd \n",
        "import matplotlib.pyplot as plt\n",
        "import cv2\n",
        "import tensorflow as tf\n",
        "from PIL import Image\n",
        "import os\n",
        "\n",
        "from sklearn.model_selection import train_test_split\n",
        "from keras.utils import to_categorical\n",
        "from keras.models import Sequential, load_model\n",
        "from keras.layers import Conv2D, MaxPool2D, Dense, Flatten, Dropout"
      ],
      "metadata": {
        "id": "_dSGGfQSMAp1"
      },
      "execution_count": 4,
      "outputs": []
    },
    {
      "cell_type": "code",
      "source": [
        "imgs_path = \"/content/train\"\n",
        "data = []\n",
        "labels = []\n",
        "classes_list = 43\n",
        "for i in range(classes_list):\n",
        "    i_path = os.path.join(imgs_path, str(i)) #0-42\n",
        "    for img in os.listdir(i_path):\n",
        "        im = Image.open(i_path +'/'+ img)\n",
        "        im = im.resize((30,30))\n",
        "        im = np.array(im)\n",
        "        data.append(im)\n",
        "        labels.append(i)\n",
        "data = np.array(data)\n",
        "labels = np.array(labels)\n",
        "print(\"Done\")"
      ],
      "metadata": {
        "colab": {
          "base_uri": "https://localhost:8080/"
        },
        "id": "ZZt3SVQTshUU",
        "outputId": "35584c4d-760b-4ace-94f0-5c9dae122d40"
      },
      "execution_count": 5,
      "outputs": [
        {
          "output_type": "stream",
          "name": "stdout",
          "text": [
            "Done\n"
          ]
        }
      ]
    },
    {
      "cell_type": "code",
      "source": [
        "print(data.shape, labels.shape)"
      ],
      "metadata": {
        "colab": {
          "base_uri": "https://localhost:8080/"
        },
        "id": "QtnPQSWJzWXa",
        "outputId": "f001374d-9cd0-4950-9e41-72d222fa6686"
      },
      "execution_count": 6,
      "outputs": [
        {
          "output_type": "stream",
          "name": "stdout",
          "text": [
            "(39209, 30, 30, 3) (39209,)\n"
          ]
        }
      ]
    },
    {
      "cell_type": "code",
      "source": [
        "path = \"/content/Train/0/00000_00000_00010.png\"\n",
        "img = Image.open(path)\n",
        "img = img.resize((30, 30))\n",
        "sr = np.array(img) \n",
        "plt.imshow(img)\n",
        "plt.show()"
      ],
      "metadata": {
        "colab": {
          "base_uri": "https://localhost:8080/",
          "height": 430
        },
        "id": "KkyozKlZshXE",
        "outputId": "423808eb-8e9e-4be8-bb37-531ddecebf97"
      },
      "execution_count": 7,
      "outputs": [
        {
          "output_type": "display_data",
          "data": {
            "text/plain": [
              "<Figure size 640x480 with 1 Axes>"
            ],
            "image/png": "[encoded data removed]"
          },
          "metadata": {}
        }
      ]
    },
    {
      "cell_type": "code",
      "source": [
        "X_train, X_test, y_train, y_test = train_test_split(data, labels, test_size=0.2, random_state=0)"
      ],
      "metadata": {
        "id": "4KeY_ORWshZm"
      },
      "execution_count": 8,
      "outputs": []
    },
    {
      "cell_type": "code",
      "source": [
        "print(X_train.shape, X_test.shape, y_train.shape, y_test.shape)"
      ],
      "metadata": {
        "colab": {
          "base_uri": "https://localhost:8080/"
        },
        "id": "l36yvlDOshcZ",
        "outputId": "613d983b-c6c5-4f44-97c9-790169a1ba8c"
      },
      "execution_count": 9,
      "outputs": [
        {
          "output_type": "stream",
          "name": "stdout",
          "text": [
            "(31367, 30, 30, 3) (7842, 30, 30, 3) (31367,) (7842,)\n"
          ]
        }
      ]
    },
    {
      "cell_type": "code",
      "source": [
        "#Convert labels to onehot encoding\n",
        "y_train = to_categorical(y_train, 43)\n",
        "y_test = to_categorical(y_test, 43)"
      ],
      "metadata": {
        "id": "xcYiyOPmz0jG"
      },
      "execution_count": 10,
      "outputs": []
    },
    {
      "cell_type": "code",
      "source": [
        "model = Sequential()\n",
        "model.add(Conv2D(filters=32, kernel_size=(5,5), activation='relu', input_shape=X_train.shape[1:]))\n",
        "model.add(Conv2D(filters=32, kernel_size=(5,5), activation='relu'))\n",
        "model.add(MaxPool2D(pool_size=(2, 2)))\n",
        "model.add(Dropout(rate=0.25))\n",
        "model.add(Conv2D(filters=64, kernel_size=(3, 3), activation='relu'))\n",
        "model.add(Conv2D(filters=64, kernel_size=(3, 3), activation='relu'))\n",
        "model.add(MaxPool2D(pool_size=(2, 2)))\n",
        "model.add(Dropout(rate=0.25))\n",
        "model.add(Flatten())\n",
        "model.add(Dense(256, activation='relu'))\n",
        "model.add(Dropout(rate=0.5))\n",
        "# We have 43 classes that's why we have defined 43 in the dense\n",
        "model.add(Dense(43, activation='softmax'))"
      ],
      "metadata": {
        "id": "ElCUZE-Ez0mr"
      },
      "execution_count": 11,
      "outputs": []
    },
    {
      "cell_type": "code",
      "source": [
        "#Compilation of the model\n",
        "model.compile(loss='categorical_crossentropy', optimizer='adam', metrics=['accuracy'])"
      ],
      "metadata": {
        "id": "s4OolXIBz0pr"
      },
      "execution_count": 12,
      "outputs": []
    },
    {
      "cell_type": "code",
      "source": [
        "history = model.fit(X_train, y_train, batch_size=32, epochs=25, validation_data=(X_test, y_test))"
      ],
      "metadata": {
        "colab": {
          "base_uri": "https://localhost:8080/"
        },
        "id": "sgf1JBzmz0su",
        "outputId": "e871d282-1796-43a5-ac63-f3c35264e8f4"
      },
      "execution_count": 13,
      "outputs": [
        {
          "output_type": "stream",
          "name": "stdout",
          "text": [
            "Epoch 1/25\n",
            "981/981 [==============================] - 19s 7ms/step - loss: 1.8997 - accuracy: 0.5122 - val_loss: 0.4649 - val_accuracy: 0.8815\n",
            "Epoch 2/25\n",
            "981/981 [==============================] - 7s 7ms/step - loss: 0.7078 - accuracy: 0.7907 - val_loss: 0.2335 - val_accuracy: 0.9401\n",
            "Epoch 3/25\n",
            "981/981 [==============================] - 6s 7ms/step - loss: 0.5233 - accuracy: 0.8468 - val_loss: 0.1716 - val_accuracy: 0.9566\n",
            "Epoch 4/25\n",
            "981/981 [==============================] - 6s 6ms/step - loss: 0.4327 - accuracy: 0.8706 - val_loss: 0.1812 - val_accuracy: 0.9513\n",
            "Epoch 5/25\n",
            "981/981 [==============================] - 6s 6ms/step - loss: 0.3855 - accuracy: 0.8855 - val_loss: 0.1127 - val_accuracy: 0.9670\n",
            "Epoch 6/25\n",
            "981/981 [==============================] - 6s 6ms/step - loss: 0.3462 - accuracy: 0.8992 - val_loss: 0.1368 - val_accuracy: 0.9612\n",
            "Epoch 7/25\n",
            "981/981 [==============================] - 8s 8ms/step - loss: 0.3065 - accuracy: 0.9098 - val_loss: 0.0828 - val_accuracy: 0.9739\n",
            "Epoch 8/25\n",
            "981/981 [==============================] - 6s 6ms/step - loss: 0.2992 - accuracy: 0.9143 - val_loss: 0.0937 - val_accuracy: 0.9741\n",
            "Epoch 9/25\n",
            "981/981 [==============================] - 6s 6ms/step - loss: 0.2950 - accuracy: 0.9158 - val_loss: 0.0927 - val_accuracy: 0.9700\n",
            "Epoch 10/25\n",
            "981/981 [==============================] - 6s 6ms/step - loss: 0.2763 - accuracy: 0.9211 - val_loss: 0.0732 - val_accuracy: 0.9805\n",
            "Epoch 11/25\n",
            "981/981 [==============================] - 6s 7ms/step - loss: 0.2703 - accuracy: 0.9237 - val_loss: 0.0808 - val_accuracy: 0.9765\n",
            "Epoch 12/25\n",
            "981/981 [==============================] - 6s 6ms/step - loss: 0.2773 - accuracy: 0.9223 - val_loss: 0.0623 - val_accuracy: 0.9818\n",
            "Epoch 13/25\n",
            "981/981 [==============================] - 6s 6ms/step - loss: 0.2513 - accuracy: 0.9301 - val_loss: 0.0637 - val_accuracy: 0.9833\n",
            "Epoch 14/25\n",
            "981/981 [==============================] - 6s 6ms/step - loss: 0.2779 - accuracy: 0.9250 - val_loss: 0.0789 - val_accuracy: 0.9773\n",
            "Epoch 15/25\n",
            "981/981 [==============================] - 6s 6ms/step - loss: 0.2689 - accuracy: 0.9260 - val_loss: 0.1829 - val_accuracy: 0.9424\n",
            "Epoch 16/25\n",
            "981/981 [==============================] - 6s 6ms/step - loss: 0.2472 - accuracy: 0.9327 - val_loss: 0.0762 - val_accuracy: 0.9799\n",
            "Epoch 17/25\n",
            "981/981 [==============================] - 6s 6ms/step - loss: 0.2700 - accuracy: 0.9271 - val_loss: 0.0738 - val_accuracy: 0.9759\n",
            "Epoch 18/25\n",
            "981/981 [==============================] - 6s 6ms/step - loss: 0.2712 - accuracy: 0.9248 - val_loss: 0.1129 - val_accuracy: 0.9648\n",
            "Epoch 19/25\n",
            "981/981 [==============================] - 6s 6ms/step - loss: 0.2647 - accuracy: 0.9275 - val_loss: 0.0624 - val_accuracy: 0.9797\n",
            "Epoch 20/25\n",
            "981/981 [==============================] - 6s 6ms/step - loss: 0.2679 - accuracy: 0.9288 - val_loss: 0.0510 - val_accuracy: 0.9851\n",
            "Epoch 21/25\n",
            "981/981 [==============================] - 6s 6ms/step - loss: 0.2582 - accuracy: 0.9326 - val_loss: 0.0726 - val_accuracy: 0.9782\n",
            "Epoch 22/25\n",
            "981/981 [==============================] - 6s 7ms/step - loss: 0.2678 - accuracy: 0.9314 - val_loss: 0.0583 - val_accuracy: 0.9832\n",
            "Epoch 23/25\n",
            "981/981 [==============================] - 6s 6ms/step - loss: 0.2396 - accuracy: 0.9375 - val_loss: 0.0688 - val_accuracy: 0.9811\n",
            "Epoch 24/25\n",
            "981/981 [==============================] - 6s 6ms/step - loss: 0.2720 - accuracy: 0.9284 - val_loss: 0.1013 - val_accuracy: 0.9728\n",
            "Epoch 25/25\n",
            "981/981 [==============================] - 6s 6ms/step - loss: 0.2756 - accuracy: 0.9300 - val_loss: 0.0766 - val_accuracy: 0.9778\n"
          ]
        }
      ]
    },
    {
      "cell_type": "code",
      "source": [
        "# accuracy \n",
        "plt.figure(0)\n",
        "plt.plot(history.history['accuracy'], label='training accuracy')\n",
        "plt.plot(history.history['val_accuracy'], label='val accuracy')\n",
        "plt.title('Accuracy')\n",
        "plt.xlabel('epochs')\n",
        "plt.ylabel('accuracy')\n",
        "plt.legend()\n",
        "plt.show()"
      ],
      "metadata": {
        "colab": {
          "base_uri": "https://localhost:8080/",
          "height": 472
        },
        "id": "7Jxf61f_z0vH",
        "outputId": "b45177d4-c0a6-41fa-d87f-f0c01c8f5314"
      },
      "execution_count": 14,
      "outputs": [
        {
          "output_type": "display_data",
          "data": {
            "text/plain": [
              "<Figure size 640x480 with 1 Axes>"
            ],
            "image/png": "[encoded data removed]"
          },
          "metadata": {}
        }
      ]
    },
    {
      "cell_type": "code",
      "source": [
        "# Loss\n",
        "plt.plot(history.history['loss'], label='training loss')\n",
        "plt.plot(history.history['val_loss'], label='val loss')\n",
        "plt.title('Loss')\n",
        "plt.xlabel('epochs')\n",
        "plt.ylabel('loss')\n",
        "plt.legend()\n",
        "plt.show()"
      ],
      "metadata": {
        "colab": {
          "base_uri": "https://localhost:8080/",
          "height": 472
        },
        "id": "6lBLK4dDz0xq",
        "outputId": "127fb93b-065b-4d98-b826-9235e81016d3"
      },
      "execution_count": 15,
      "outputs": [
        {
          "output_type": "display_data",
          "data": {
            "text/plain": [
              "<Figure size 640x480 with 1 Axes>"
            ],
            "image/png": "[encoded data removed]"
          },
          "metadata": {}
        }
      ]
    },
    {
      "cell_type": "code",
      "source": [
        "def testing(testcsv):\n",
        "    y_test = pd.read_csv(testcsv)\n",
        "    label = y_test[\"ClassId\"].values\n",
        "    imgs = y_test[\"Path\"].values\n",
        "    data=[]\n",
        "    for img in imgs:\n",
        "        image = Image.open(img)\n",
        "        image = image.resize((30,30))\n",
        "        data.append(np.array(image))\n",
        "    X_test=np.array(data)\n",
        "    return X_test,label"
      ],
      "metadata": {
        "id": "kNBjwU4SMA6V"
      },
      "execution_count": 16,
      "outputs": []
    },
    {
      "cell_type": "code",
      "source": [
        "X_test, label = testing('/content/Test.csv')"
      ],
      "metadata": {
        "id": "66qZZGwy1X_L"
      },
      "execution_count": 17,
      "outputs": []
    },
    {
      "cell_type": "code",
      "source": [
        "predict_x = model.predict(X_test)\n",
        "Y_pred =np.argmax(predict_x,axis=1)\n",
        "Y_pred"
      ],
      "metadata": {
        "colab": {
          "base_uri": "https://localhost:8080/"
        },
        "id": "5ENwHvfH1YCk",
        "outputId": "66cf8f92-3f56-48bb-fb40-a78d4f84a38d"
      },
      "execution_count": 18,
      "outputs": [
        {
          "output_type": "stream",
          "name": "stdout",
          "text": [
            "395/395 [==============================] - 1s 2ms/step\n"
          ]
        },
        {
          "output_type": "execute_result",
          "data": {
            "text/plain": [
              "array([16,  1, 38, ...,  3,  7, 10])"
            ]
          },
          "metadata": {},
          "execution_count": 18
        }
      ]
    },
    {
      "cell_type": "code",
      "source": [
        "from sklearn.metrics import accuracy_score\n",
        "print(accuracy_score(label, Y_pred))"
      ],
      "metadata": {
        "colab": {
          "base_uri": "https://localhost:8080/"
        },
        "id": "AGa3vouE1YFE",
        "outputId": "43a2b9c2-0de0-4fd3-a306-f1a507c8bba1"
      },
      "execution_count": 19,
      "outputs": [
        {
          "output_type": "stream",
          "name": "stdout",
          "text": [
            "0.9398258115597783\n"
          ]
        }
      ]
    },
    {
      "cell_type": "code",
      "source": [
        "model.save(\"./training/TSR.h5\")"
      ],
      "metadata": {
        "id": "DZVkVJFd8JXJ"
      },
      "execution_count": 20,
      "outputs": []
    },
    {
      "cell_type": "code",
      "source": [
        "import os\n",
        "os.chdir(r'/content/drive/MyDrive/Bank')\n",
        "model.save(\"/content/drive/MyDrive/Bank/TSR.h5\")"
      ],
      "metadata": {
        "id": "2MYYOmcqHrc0"
      },
      "execution_count": 45,
      "outputs": []
    },
    {
      "cell_type": "code",
      "source": [
        "from keras.models import load_model\n",
        "model = load_model('/content/training/TSR.h5')"
      ],
      "metadata": {
        "id": "7rCpJw5RIIY4"
      },
      "execution_count": 44,
      "outputs": []
    },
    {
      "cell_type": "code",
      "source": [
        "# Classes of trafic signs\n",
        "classes = { 0:'Speed limit (20km/h)',\n",
        "            1:'Speed limit (30km/h)', \n",
        "            2:'Speed limit (50km/h)', \n",
        "            3:'Speed limit (60km/h)', \n",
        "            4:'Speed limit (70km/h)', \n",
        "            5:'Speed limit (80km/h)', \n",
        "            6:'End of speed limit (80km/h)', \n",
        "            7:'Speed limit (100km/h)', \n",
        "            8:'Speed limit (120km/h)', \n",
        "            9:'No passing', \n",
        "            10:'No passing veh over 3.5 tons', \n",
        "            11:'Right-of-way at intersection', \n",
        "            12:'Priority road', \n",
        "            13:'Yield', \n",
        "            14:'Stop', \n",
        "            15:'No vehicles', \n",
        "            16:'Veh > 3.5 tons prohibited', \n",
        "            17:'No entry', \n",
        "            18:'General caution', \n",
        "            19:'Dangerous curve left', \n",
        "            20:'Dangerous curve right', \n",
        "            21:'Double curve', \n",
        "            22:'Bumpy road', \n",
        "            23:'Slippery road', \n",
        "            24:'Road narrows on the right', \n",
        "            25:'Road work', \n",
        "            26:'Traffic signals', \n",
        "            27:'Pedestrians', \n",
        "            28:'Children crossing', \n",
        "            29:'Bicycles crossing', \n",
        "            30:'Beware of ice/snow',\n",
        "            31:'Wild animals crossing', \n",
        "            32:'End speed + passing limits', \n",
        "            33:'Turn right ahead', \n",
        "            34:'Turn left ahead', \n",
        "            35:'Ahead only', \n",
        "            36:'Go straight or right', \n",
        "            37:'Go straight or left', \n",
        "            38:'Keep right', \n",
        "            39:'Keep left', \n",
        "            40:'Roundabout mandatory', \n",
        "            41:'End of no passing', \n",
        "            42:'End no passing veh > 3.5 tons' }"
      ],
      "metadata": {
        "id": "LmV9cF_G1YIJ"
      },
      "execution_count": 46,
      "outputs": []
    },
    {
      "cell_type": "code",
      "source": [
        "from PIL import Image\n",
        "import numpy as np\n",
        "import matplotlib.pyplot as plt\n",
        "def test_on_img(img):\n",
        "    data=[]\n",
        "    image = Image.open(img)\n",
        "    image = image.resize((30,30))\n",
        "    data.append(np.array(image))\n",
        "    X_test=np.array(data)\n",
        "    predict_x = model.predict(X_test)\n",
        "    Y_pred =np.argmax(predict_x,axis=1)\n",
        " \n",
        "    return image,Y_pred"
      ],
      "metadata": {
        "id": "w9bTDJa45COP"
      },
      "execution_count": 47,
      "outputs": []
    },
    {
      "cell_type": "code",
      "source": [
        "plot,prediction = test_on_img(r'/content/Test/00014.png')\n",
        "s = [str(i) for i in prediction] \n",
        "a = int(\"\".join(s)) \n",
        "print(\"Predicted traffic sign is: \", classes[a])\n",
        "plt.imshow(plot)\n",
        "plt.show()"
      ],
      "metadata": {
        "colab": {
          "base_uri": "https://localhost:8080/",
          "height": 465
        },
        "id": "3u21pqhW5CRC",
        "outputId": "515f7782-787b-40fb-9a1d-44fe1b572a72"
      },
      "execution_count": 48,
      "outputs": [
        {
          "output_type": "stream",
          "name": "stdout",
          "text": [
            "1/1 [==============================] - 0s 227ms/step\n",
            "Predicted traffic sign is:  Speed limit (70km/h)\n"
          ]
        },
        {
          "output_type": "display_data",
          "data": {
            "text/plain": [
              "<Figure size 640x480 with 1 Axes>"
            ],
            "image/png": "[encoded data removed]"
          },
          "metadata": {}
        }
      ]
    },
    {
      "cell_type": "code",
      "source": [
        "import keras as k\n",
        "k.__version__"
      ],
      "metadata": {
        "colab": {
          "base_uri": "https://localhost:8080/",
          "height": 35
        },
        "id": "6gf0X9Zs5Cau",
        "outputId": "ff45c458-ede7-4049-ea94-b75d023de2ac"
      },
      "execution_count": 49,
      "outputs": [
        {
          "output_type": "execute_result",
          "data": {
            "text/plain": [
              "'2.12.0'"
            ],
            "application/vnd.google.colaboratory.intrinsic+json": {
              "type": "string"
            }
          },
          "metadata": {},
          "execution_count": 49
        }
      ]
    },
    {
      "cell_type": "code",
      "source": [
        "import tensorflow as tf\n",
        "tf.__version__\n"
      ],
      "metadata": {
        "colab": {
          "base_uri": "https://localhost:8080/",
          "height": 35
        },
        "id": "2G-n_jUe_FG2",
        "outputId": "0680161d-49f8-4191-e0d1-225f5ee1a587"
      },
      "execution_count": 50,
      "outputs": [
        {
          "output_type": "execute_result",
          "data": {
            "text/plain": [
              "'2.12.0'"
            ],
            "application/vnd.google.colaboratory.intrinsic+json": {
              "type": "string"
            }
          },
          "metadata": {},
          "execution_count": 50
        }
      ]
    }
  ]
}