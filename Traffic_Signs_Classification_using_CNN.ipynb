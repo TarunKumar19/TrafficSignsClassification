{
  "nbformat": 4,
  "nbformat_minor": 0,
  "metadata": {
    "colab": {
      "provenance": [],
      "authorship_tag": "ABX9TyM7Ljhwoi8TcUET/9yFi6eq",
      "include_colab_link": true
    },
    "kernelspec": {
      "name": "python3",
      "display_name": "Python 3"
    },
    "language_info": {
      "name": "python"
    },
    "accelerator": "GPU",
    "gpuClass": "standard"
  },
  "cells": [
    {
      "cell_type": "markdown",
      "metadata": {
        "id": "view-in-github",
        "colab_type": "text"
      },
      "source": [
        "<a href=\"https://colab.research.google.com/github/TarunKumar19/TrafficSignsClassification/blob/main/Traffic_Signs_Classification_using_CNN.ipynb\" target=\"_parent\"><img src=\"https://colab.research.google.com/assets/colab-badge.svg\" alt=\"Open In Colab\"/></a>"
      ]
    },
    {
      "cell_type": "code",
      "execution_count": 1,
      "metadata": {
        "id": "jSKMdU1MJyGF"
      },
      "outputs": [],
      "source": [
        "!mkdir -p ~/.kaggle\n",
        "!cp kaggle.json ~/.kaggle/"
      ]
    },
    {
      "cell_type": "code",
      "source": [
        "!kaggle datasets download -d meowmeowmeowmeowmeow/gtsrb-german-traffic-sign"
      ],
      "metadata": {
        "id": "qHfazojsJ65z",
        "colab": {
          "base_uri": "https://localhost:8080/"
        },
        "outputId": "3e36bb37-d2e8-4b9d-ab7e-c3fda60da448"
      },
      "execution_count": 2,
      "outputs": [
        {
          "output_type": "stream",
          "name": "stdout",
          "text": [
            "Warning: Your Kaggle API key is readable by other users on this system! To fix this, you can run 'chmod 600 /root/.kaggle/kaggle.json'\n",
            "Downloading gtsrb-german-traffic-sign.zip to /content\n",
            "100% 611M/612M [00:32<00:00, 21.2MB/s]\n",
            "100% 612M/612M [00:32<00:00, 19.9MB/s]\n"
          ]
        }
      ]
    },
    {
      "cell_type": "code",
      "source": [
        "import zipfile\n",
        "zip = zipfile.ZipFile('/content/gtsrb-german-traffic-sign.zip')\n",
        "zip.extractall('/content')\n",
        "zip.close()"
      ],
      "metadata": {
        "id": "Dmjy9kziMAnB"
      },
      "execution_count": 3,
      "outputs": []
    },
    {
      "cell_type": "code",
      "source": [
        "import numpy as np \n",
        "import pandas as pd \n",
        "import matplotlib.pyplot as plt\n",
        "import cv2\n",
        "import tensorflow as tf\n",
        "from PIL import Image\n",
        "import os\n",
        "\n",
        "from sklearn.model_selection import train_test_split\n",
        "from keras.utils import to_categorical\n",
        "from keras.models import Sequential, load_model\n",
        "from keras.layers import Conv2D, MaxPool2D, Dense, Flatten, Dropout"
      ],
      "metadata": {
        "id": "_dSGGfQSMAp1"
      },
      "execution_count": 4,
      "outputs": []
    },
    {
      "cell_type": "code",
      "source": [
        "imgs_path = \"/content/train\"\n",
        "data = []\n",
        "labels = []\n",
        "classes_list = 43\n",
        "for i in range(classes_list):\n",
        "    i_path = os.path.join(imgs_path, str(i)) #0-42\n",
        "    for img in os.listdir(i_path):\n",
        "        im = Image.open(i_path +'/'+ img)\n",
        "        im = im.resize((30,30))\n",
        "        im = np.array(im)\n",
        "        data.append(im)\n",
        "        labels.append(i)\n",
        "data = np.array(data)\n",
        "labels = np.array(labels)\n",
        "print(\"Done\")"
      ],
      "metadata": {
        "colab": {
          "base_uri": "https://localhost:8080/"
        },
        "id": "ZZt3SVQTshUU",
        "outputId": "597907a0-03ee-420c-8898-c16bac72aa8e"
      },
      "execution_count": 13,
      "outputs": [
        {
          "output_type": "stream",
          "name": "stdout",
          "text": [
            "Done\n"
          ]
        }
      ]
    },
    {
      "cell_type": "code",
      "source": [
        "print(data.shape, labels.shape)"
      ],
      "metadata": {
        "colab": {
          "base_uri": "https://localhost:8080/"
        },
        "id": "QtnPQSWJzWXa",
        "outputId": "c744a08f-ca07-4515-bcd4-90aca88c87df"
      },
      "execution_count": 20,
      "outputs": [
        {
          "output_type": "stream",
          "name": "stdout",
          "text": [
            "(39209, 30, 30, 3) (39209,)\n"
          ]
        }
      ]
    },
    {
      "cell_type": "code",
      "source": [
        "path = \"/content/Train/0/00000_00000_00010.png\"\n",
        "img = Image.open(path)\n",
        "img = img.resize((30, 30))\n",
        "sr = np.array(img) \n",
        "plt.imshow(img)\n",
        "plt.show()"
      ],
      "metadata": {
        "colab": {
          "base_uri": "https://localhost:8080/",
          "height": 430
        },
        "id": "KkyozKlZshXE",
        "outputId": "a7535f41-6c01-4d4e-d59d-0cb855716a9f"
      },
      "execution_count": 19,
      "outputs": [
        {
          "output_type": "display_data",
          "data": {
            "text/plain": [
              "<Figure size 640x480 with 1 Axes>"
            ],
            "image/png": "[encoded data removed]"
          },
          "metadata": {}
        }
      ]
    },
    {
      "cell_type": "code",
      "source": [
        "X_train, X_test, y_train, y_test = train_test_split(data, labels, test_size=0.2, random_state=0)"
      ],
      "metadata": {
        "id": "4KeY_ORWshZm"
      },
      "execution_count": 21,
      "outputs": []
    },
    {
      "cell_type": "code",
      "source": [
        "print(X_train.shape, X_test.shape, y_train.shape, y_test.shape)"
      ],
      "metadata": {
        "colab": {
          "base_uri": "https://localhost:8080/"
        },
        "id": "l36yvlDOshcZ",
        "outputId": "47f021bd-8e8b-40b9-93e1-fc1031e3cf19"
      },
      "execution_count": 22,
      "outputs": [
        {
          "output_type": "stream",
          "name": "stdout",
          "text": [
            "(31367, 30, 30, 3) (7842, 30, 30, 3) (31367,) (7842,)\n"
          ]
        }
      ]
    },
    {
      "cell_type": "code",
      "source": [
        "#Convert labels to onehot encoding\n",
        "y_train = to_categorical(y_train, 43)\n",
        "y_test = to_categorical(y_test, 43)"
      ],
      "metadata": {
        "id": "xcYiyOPmz0jG"
      },
      "execution_count": 23,
      "outputs": []
    },
    {
      "cell_type": "code",
      "source": [
        "model = Sequential()\n",
        "model.add(Conv2D(filters=32, kernel_size=(5,5), activation='relu', input_shape=X_train.shape[1:]))\n",
        "model.add(Conv2D(filters=32, kernel_size=(5,5), activation='relu'))\n",
        "model.add(MaxPool2D(pool_size=(2, 2)))\n",
        "model.add(Dropout(rate=0.25))\n",
        "model.add(Conv2D(filters=64, kernel_size=(3, 3), activation='relu'))\n",
        "model.add(Conv2D(filters=64, kernel_size=(3, 3), activation='relu'))\n",
        "model.add(MaxPool2D(pool_size=(2, 2)))\n",
        "model.add(Dropout(rate=0.25))\n",
        "model.add(Flatten())\n",
        "model.add(Dense(256, activation='relu'))\n",
        "model.add(Dropout(rate=0.5))\n",
        "# We have 43 classes that's why we have defined 43 in the dense\n",
        "model.add(Dense(43, activation='softmax'))"
      ],
      "metadata": {
        "id": "ElCUZE-Ez0mr"
      },
      "execution_count": 24,
      "outputs": []
    },
    {
      "cell_type": "code",
      "source": [
        "#Compilation of the model\n",
        "model.compile(loss='categorical_crossentropy', optimizer='adam', metrics=['accuracy'])"
      ],
      "metadata": {
        "id": "s4OolXIBz0pr"
      },
      "execution_count": 25,
      "outputs": []
    },
    {
      "cell_type": "code",
      "source": [
        "history = model.fit(X_train, y_train, batch_size=32, epochs=25, validation_data=(X_test, y_test))"
      ],
      "metadata": {
        "colab": {
          "base_uri": "https://localhost:8080/"
        },
        "id": "sgf1JBzmz0su",
        "outputId": "bd455647-69c7-4044-8354-2c291d0bc274"
      },
      "execution_count": 26,
      "outputs": [
        {
          "output_type": "stream",
          "name": "stdout",
          "text": [
            "Epoch 1/25\n",
            "981/981 [==============================] - 18s 6ms/step - loss: 2.0282 - accuracy: 0.4816 - val_loss: 0.6350 - val_accuracy: 0.8406\n",
            "Epoch 2/25\n",
            "981/981 [==============================] - 6s 7ms/step - loss: 0.6999 - accuracy: 0.7914 - val_loss: 0.3080 - val_accuracy: 0.9174\n",
            "Epoch 3/25\n",
            "981/981 [==============================] - 6s 6ms/step - loss: 0.4354 - accuracy: 0.8737 - val_loss: 0.1201 - val_accuracy: 0.9689\n",
            "Epoch 4/25\n",
            "981/981 [==============================] - 6s 7ms/step - loss: 0.3347 - accuracy: 0.9065 - val_loss: 0.1191 - val_accuracy: 0.9654\n",
            "Epoch 5/25\n",
            "981/981 [==============================] - 6s 6ms/step - loss: 0.3032 - accuracy: 0.9157 - val_loss: 0.1036 - val_accuracy: 0.9735\n",
            "Epoch 6/25\n",
            "981/981 [==============================] - 6s 7ms/step - loss: 0.2898 - accuracy: 0.9215 - val_loss: 0.0619 - val_accuracy: 0.9825\n",
            "Epoch 7/25\n",
            "981/981 [==============================] - 6s 6ms/step - loss: 0.2551 - accuracy: 0.9285 - val_loss: 0.0761 - val_accuracy: 0.9788\n",
            "Epoch 8/25\n",
            "981/981 [==============================] - 6s 6ms/step - loss: 0.2392 - accuracy: 0.9360 - val_loss: 0.0768 - val_accuracy: 0.9795\n",
            "Epoch 9/25\n",
            "981/981 [==============================] - 6s 6ms/step - loss: 0.2632 - accuracy: 0.9326 - val_loss: 0.0509 - val_accuracy: 0.9847\n",
            "Epoch 10/25\n",
            "981/981 [==============================] - 7s 7ms/step - loss: 0.2392 - accuracy: 0.9366 - val_loss: 0.0864 - val_accuracy: 0.9731\n",
            "Epoch 11/25\n",
            "981/981 [==============================] - 6s 6ms/step - loss: 0.2118 - accuracy: 0.9451 - val_loss: 0.0934 - val_accuracy: 0.9737\n",
            "Epoch 12/25\n",
            "981/981 [==============================] - 7s 7ms/step - loss: 0.2346 - accuracy: 0.9394 - val_loss: 0.0507 - val_accuracy: 0.9846\n",
            "Epoch 13/25\n",
            "981/981 [==============================] - 5s 6ms/step - loss: 0.2515 - accuracy: 0.9396 - val_loss: 0.0601 - val_accuracy: 0.9843\n",
            "Epoch 14/25\n",
            "981/981 [==============================] - 7s 7ms/step - loss: 0.2110 - accuracy: 0.9465 - val_loss: 0.0439 - val_accuracy: 0.9884\n",
            "Epoch 15/25\n",
            "981/981 [==============================] - 6s 6ms/step - loss: 0.2218 - accuracy: 0.9433 - val_loss: 0.0446 - val_accuracy: 0.9885\n",
            "Epoch 16/25\n",
            "981/981 [==============================] - 7s 7ms/step - loss: 0.2322 - accuracy: 0.9427 - val_loss: 0.0638 - val_accuracy: 0.9813\n",
            "Epoch 17/25\n",
            "981/981 [==============================] - 6s 6ms/step - loss: 0.2059 - accuracy: 0.9479 - val_loss: 0.0567 - val_accuracy: 0.9861\n",
            "Epoch 18/25\n",
            "981/981 [==============================] - 7s 7ms/step - loss: 0.2281 - accuracy: 0.9434 - val_loss: 0.0616 - val_accuracy: 0.9818\n",
            "Epoch 19/25\n",
            "981/981 [==============================] - 6s 6ms/step - loss: 0.2690 - accuracy: 0.9368 - val_loss: 0.0776 - val_accuracy: 0.9770\n",
            "Epoch 20/25\n",
            "981/981 [==============================] - 7s 7ms/step - loss: 0.2325 - accuracy: 0.9447 - val_loss: 0.0742 - val_accuracy: 0.9819\n",
            "Epoch 21/25\n",
            "981/981 [==============================] - 6s 6ms/step - loss: 0.2484 - accuracy: 0.9433 - val_loss: 0.0724 - val_accuracy: 0.9797\n",
            "Epoch 22/25\n",
            "981/981 [==============================] - 7s 7ms/step - loss: 0.2389 - accuracy: 0.9462 - val_loss: 0.0630 - val_accuracy: 0.9807\n",
            "Epoch 23/25\n",
            "981/981 [==============================] - 6s 6ms/step - loss: 0.2322 - accuracy: 0.9467 - val_loss: 0.0534 - val_accuracy: 0.9860\n",
            "Epoch 24/25\n",
            "981/981 [==============================] - 6s 6ms/step - loss: 0.2044 - accuracy: 0.9524 - val_loss: 0.0457 - val_accuracy: 0.9878\n",
            "Epoch 25/25\n",
            "981/981 [==============================] - 6s 6ms/step - loss: 0.2513 - accuracy: 0.9461 - val_loss: 0.0528 - val_accuracy: 0.9853\n"
          ]
        }
      ]
    },
    {
      "cell_type": "code",
      "source": [
        "# accuracy \n",
        "plt.figure(0)\n",
        "plt.plot(history.history['accuracy'], label='training accuracy')\n",
        "plt.plot(history.history['val_accuracy'], label='val accuracy')\n",
        "plt.title('Accuracy')\n",
        "plt.xlabel('epochs')\n",
        "plt.ylabel('accuracy')\n",
        "plt.legend()\n",
        "plt.show()"
      ],
      "metadata": {
        "colab": {
          "base_uri": "https://localhost:8080/",
          "height": 472
        },
        "id": "7Jxf61f_z0vH",
        "outputId": "ca92bc19-7a40-416a-b0f1-16c854d63c0f"
      },
      "execution_count": 27,
      "outputs": [
        {
          "output_type": "display_data",
          "data": {
            "text/plain": [
              "<Figure size 640x480 with 1 Axes>"
            ],
            "image/png": "[encoded data removed]"
          },
          "metadata": {}
        }
      ]
    },
    {
      "cell_type": "code",
      "source": [
        "# Loss\n",
        "plt.plot(history.history['loss'], label='training loss')\n",
        "plt.plot(history.history['val_loss'], label='val loss')\n",
        "plt.title('Loss')\n",
        "plt.xlabel('epochs')\n",
        "plt.ylabel('loss')\n",
        "plt.legend()\n",
        "plt.show()"
      ],
      "metadata": {
        "colab": {
          "base_uri": "https://localhost:8080/",
          "height": 472
        },
        "id": "6lBLK4dDz0xq",
        "outputId": "872081a0-18f4-40d3-cb22-ceb7f688a734"
      },
      "execution_count": 28,
      "outputs": [
        {
          "output_type": "display_data",
          "data": {
            "text/plain": [
              "<Figure size 640x480 with 1 Axes>"
            ],
            "image/png": "[encoded data removed]"
          },
          "metadata": {}
        }
      ]
    },
    {
      "cell_type": "code",
      "source": [
        "def testing(testcsv):\n",
        "    y_test = pd.read_csv(testcsv)\n",
        "    label = y_test[\"ClassId\"].values\n",
        "    imgs = y_test[\"Path\"].values\n",
        "    data=[]\n",
        "    for img in imgs:\n",
        "        image = Image.open(img)\n",
        "        image = image.resize((30,30))\n",
        "        data.append(np.array(image))\n",
        "    X_test=np.array(data)\n",
        "    return X_test,label"
      ],
      "metadata": {
        "id": "kNBjwU4SMA6V"
      },
      "execution_count": 29,
      "outputs": []
    },
    {
      "cell_type": "code",
      "source": [
        "X_test, label = testing('/content/Test.csv')"
      ],
      "metadata": {
        "id": "66qZZGwy1X_L"
      },
      "execution_count": 30,
      "outputs": []
    },
    {
      "cell_type": "code",
      "source": [
        "predict_x = model.predict(X_test)\n",
        "Y_pred =np.argmax(predict_x,axis=1)\n",
        "Y_pred"
      ],
      "metadata": {
        "colab": {
          "base_uri": "https://localhost:8080/"
        },
        "id": "5ENwHvfH1YCk",
        "outputId": "73331d86-dcb8-4992-d20e-be0363c44f83"
      },
      "execution_count": 34,
      "outputs": [
        {
          "output_type": "stream",
          "name": "stdout",
          "text": [
            "395/395 [==============================] - 1s 2ms/step\n"
          ]
        },
        {
          "output_type": "execute_result",
          "data": {
            "text/plain": [
              "array([16,  1, 38, ..., 32,  7, 10])"
            ]
          },
          "metadata": {},
          "execution_count": 34
        }
      ]
    },
    {
      "cell_type": "code",
      "source": [
        "from sklearn.metrics import accuracy_score\n",
        "print(accuracy_score(label, Y_pred))"
      ],
      "metadata": {
        "colab": {
          "base_uri": "https://localhost:8080/"
        },
        "id": "AGa3vouE1YFE",
        "outputId": "7c621f88-e58e-4766-f5bd-f1ede701d6a8"
      },
      "execution_count": 35,
      "outputs": [
        {
          "output_type": "stream",
          "name": "stdout",
          "text": [
            "0.9589865399841647\n"
          ]
        }
      ]
    },
    {
      "cell_type": "code",
      "source": [
        "#Load the Model\n",
        "import os\n",
        "os.chdir(r'D:\\Traffic_Sign_Recognition')\n",
        "from keras.models import load_model\n",
        "model = load_model('./training/TSR.h5')"
      ],
      "metadata": {
        "id": "LmV9cF_G1YIJ"
      },
      "execution_count": null,
      "outputs": []
    }
  ]
}